{
 "cells": [
  {
   "cell_type": "code",
   "execution_count": 2,
   "metadata": {},
   "outputs": [],
   "source": [
    "import pandas as pd\n",
    "import numpy as np\n",
    "import matplotlib.pyplot as plt"
   ]
  },
  {
   "cell_type": "code",
   "execution_count": 75,
   "metadata": {},
   "outputs": [
    {
     "data": {
      "image/png": "[encoded data removed]",
      "text/plain": [
       "<Figure size 432x288 with 1 Axes>"
      ]
     },
     "metadata": {
      "needs_background": "light"
     },
     "output_type": "display_data"
    },
    {
     "name": "stdout",
     "output_type": "stream",
     "text": [
      "Variante y cadena: inicial A\n",
      "El numero de cluster para el cutoff 0.12 es: 18\n",
      " \n",
      "El porcentaje de estructuras en el... \n",
      "cluster 1 es: 54.05 %\n",
      "cluster 2 es: 20.03 %\n",
      "cluster 3 es: 8.73 %\n",
      "cluster 4 es: 5.33 %\n",
      "cluster 5 es: 4.7 %\n",
      "cluster 6 es: 2.33 %\n",
      "cluster 7 es: 1.37 %\n",
      "cluster 8 es: 0.93 %\n"
     ]
    }
   ],
   "source": [
    "## Definir variables\n",
    "Cutoff=\"0.12\"\n",
    "Var=\"inicial\"\n",
    "CHN=\"A\"\n",
    "## Locaciòn de los archivos\n",
    "Folder=\"delta/inicial\"\n",
    "#Folder=\"delta/inter\"\n",
    "#Folder=\"delta/final\"\n",
    "#Folder=\"orig\"\n",
    "#Folder=\"omicron\"\n",
    "\n",
    "## Crear listas vacias del eje x y y para depositar datos en ellas despues.\n",
    "x, y = [], []\n",
    "## Abrir el archivo (variable) con el cual se trabaja\n",
    "## depositar en listas x y y los datos extraidos del archivo de trabajo\n",
    "with open(\"/home/ahr/Desktop/spike_MD/\" + str(Folder) + \"/cluster_\" + str(Var) + str(CHN) + \"_rbd_sz_\" +str(Cutoff) + \".xvg\") as f:\n",
    "    for line in f:\n",
    "        cols = line.split()\n",
    "\n",
    "        if len(cols) == 2:\n",
    "            x.append(float(cols[0]))\n",
    "            y.append(float(cols[1]))\n",
    "## calcular el porcentaje de estructuras de los valores del eje y (estructuras)\n",
    "total_structures = sum(y)\n",
    "for i in range(len(y)):\n",
    "    y[i] *= 100 / total_structures\n",
    "## Gràficar los datos (linea)\n",
    "fig = plt.figure()\n",
    "ax1 = fig.add_subplot(111)\n",
    "ax1.set_title(\"Cluster size\")    \n",
    "ax1.set_xlabel('Cluster')\n",
    "ax1.set_ylabel('porcentaje de estructuras por cluster (%)')\n",
    "ax1.plot(x,y, label='the data', color='red')\n",
    "leg = ax1.legend()\n",
    "plt.xticks(range(0,1+len(x)))\n",
    "plt.ylim(0,5+y[0])\n",
    "plt.show()  \n",
    "\"\"\" ## Gràficar los datos (baras)\n",
    "plt.bar(x, y, color=(0.2, 0.4, 0.6, 0.6))\n",
    "plt.title(\"Cluster size\")\n",
    "plt.xlabel(\"Cluster\")\n",
    "plt.ylabel(\"Porcentaje de estructuras por cluster (%)\")\n",
    "plt.xticks(range(0,1+len(x)))\n",
    "plt.ylim(0,5+y[0])\n",
    "plt.show()  \"\"\"\n",
    "## Imprimir un resumen de la informaciòn\n",
    "print(\"Variante y cadena: \" + str(Var) + \" \" + str(CHN))\n",
    "print(\"El numero de cluster para el cutoff \" + str(Cutoff) + \" es: \" + str(len(x)))\n",
    "print(\" \")\n",
    "print(\"El porcentaje de estructuras en el... \")\n",
    "print(\"cluster 1 es: \" + str(round(y[0], 2)) + \" %\")\n",
    "print(\"cluster 2 es: \" + str(round(y[1], 2)) + \" %\")\n",
    "print(\"cluster 3 es: \" + str(round(y[2], 2)) + \" %\")\n",
    "print(\"cluster 4 es: \" + str(round(y[3], 2)) + \" %\")\n",
    "print(\"cluster 5 es: \" + str(round(y[4], 2)) + \" %\")\n",
    "\n",
    "## imprimir la informaciòn de màs clusters\n",
    "\"\"\" print(\"cluster 6 es: \" + str(round(y[5], 2)) + \" %\")\n",
    "print(\"cluster 7 es: \" + str(round(y[6], 2)) + \" %\")\n",
    "print(\"cluster 8 es: \" + str(round(y[7], 2)) + \" %\")\n",
    " \"\"\""
   ]
  },
  {
   "cell_type": "code",
   "execution_count": null,
   "metadata": {},
   "outputs": [],
   "source": []
  }
 ],
 "metadata": {
  "interpreter": {
   "hash": "31f2aee4e71d21fbe5cf8b01ff0e069b9275f58929596ceb00d14d90e3e16cd6"
  },
  "kernelspec": {
   "display_name": "Python 3.8.10 64-bit",
   "language": "python",
   "name": "python3"
  },
  "language_info": {
   "codemirror_mode": {
    "name": "ipython",
    "version": 3
   },
   "file_extension": ".py",
   "mimetype": "text/x-python",
   "name": "python",
   "nbconvert_exporter": "python",
   "pygments_lexer": "ipython3",
   "version": "3.8.10"
  },
  "orig_nbformat": 4
 },
 "nbformat": 4,
 "nbformat_minor": 2
}
